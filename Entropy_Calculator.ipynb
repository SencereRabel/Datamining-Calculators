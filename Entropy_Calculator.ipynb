{
  "nbformat": 4,
  "nbformat_minor": 0,
  "metadata": {
    "colab": {
      "provenance": []
    },
    "kernelspec": {
      "name": "python3",
      "display_name": "Python 3"
    },
    "language_info": {
      "name": "python"
    }
  },
  "cells": [
    {
      "cell_type": "code",
      "execution_count": null,
      "metadata": {
        "colab": {
          "base_uri": "https://localhost:8080/"
        },
        "id": "3HiZHMTr3MQN",
        "outputId": "8db52411-09ac-4347-9229-a9bd9201cb69"
      },
      "outputs": [
        {
          "name": "stdout",
          "output_type": "stream",
          "text": [
            "Entropy of parent node:\n",
            "Enter the instances of C0:4\n",
            "Enter the instances of C1:6\n",
            "enter the number of records at the parent node: 10\n",
            "Enter the number of children:2\n",
            "enter the number of records in child 0: 7\n",
            "enter the number of records in child 1: 3\n",
            "child0 \n",
            "Enter the instances of C0:4\n",
            "Enter the instances of C1:3\n",
            "child1 \n",
            "Enter the instances of C0:0\n",
            "Enter the instances of C1:3\n"
          ]
        },
        {
          "output_type": "execute_result",
          "data": {
            "text/plain": [
              "0.2812908992306925"
            ]
          },
          "metadata": {},
          "execution_count": 7
        }
      ],
      "source": [
        "import math\n",
        "#input the number of classes and out puts the entropy calculation\n",
        "def entropy(num_of_class):\n",
        "  num_of_class=int(num_of_class)\n",
        "  #creates a list to store all of the instances of each class\n",
        "  instances = []\n",
        "  for i in range(num_of_class):\n",
        "    instances.append(int(input(f'Enter the instances of C{i}:')))\n",
        "  #prepares for summation setting entropy to zero and calculating the total\n",
        "  entropy = 0\n",
        "  total = sum(instances)\n",
        "  #preforms summation leaving out values that would equal zero and then return entropy\n",
        "  for j in range(len(instances)):\n",
        "    if instances[j] == 0:\n",
        "      continue\n",
        "    entropy += (instances[j]/total)*math.log2(instances[j]/total)\n",
        "  return -1*(entropy)\n",
        "\n",
        "def entropy_gain(num_of_class):\n",
        "  #get the entropy of the parent node\n",
        "  print('Entropy of parent node:')\n",
        "  entropy_parent = entropy(num_of_class)\n",
        "  #ask for the number of records at the parent node\n",
        "  parent_record = int(input(\"enter the number of records at the parent node: \"))\n",
        "  #ask for number of children\n",
        "  k = int(input('Enter the number of children:'))\n",
        "  #for each child ask for the the total number of records\n",
        "  n =[]\n",
        "  for i in range(k):\n",
        "    n.append(int(input(f\"enter the number of records in child {i}: \")))\n",
        "\n",
        "  #prepare for summation\n",
        "  entropy_split = 0\n",
        "  #compute the summation of the records at each node / records at parent node times the entropy at each  node\n",
        "  for i in range(len(n)):\n",
        "    print(f\"child{i} \")\n",
        "    entropy_split += (n[i]/parent_record)*entropy(num_of_class)\n",
        "  entropy_gain = entropy_parent - entropy_split\n",
        "  return entropy_gain\n",
        "\n"
      ]
    },
    {
      "cell_type": "code",
      "source": [
        "precision = (85/88)\n",
        "recall = (85/95)\n",
        "f1score = (2*precision*recall)/(precision+recall)\n",
        "\n",
        "print(f1score )"
      ],
      "metadata": {
        "colab": {
          "base_uri": "https://localhost:8080/"
        },
        "id": "IyeUacWkg7mp",
        "outputId": "e44e0c66-09bd-47f1-cc64-8b967c772e2b"
      },
      "execution_count": null,
      "outputs": [
        {
          "output_type": "stream",
          "name": "stdout",
          "text": [
            "0.9289617486338798\n"
          ]
        }
      ]
    }
  ]
}