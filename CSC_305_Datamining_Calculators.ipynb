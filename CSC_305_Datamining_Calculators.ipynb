{
  "nbformat": 4,
  "nbformat_minor": 0,
  "metadata": {
    "colab": {
      "provenance": [],
      "collapsed_sections": [
        "bs8ZVx3c6R2U",
        "7QbP7Xj6BAca",
        "Cl5LIHVlA5PR",
        "btQnPbKE6U46",
        "7umBlAusmlSZ",
        "OYNjmioiEZDt",
        "kLL4AT8PADXe"
      ]
    },
    "kernelspec": {
      "name": "python3",
      "display_name": "Python 3"
    },
    "language_info": {
      "name": "python"
    }
  },
  "cells": [
    {
      "cell_type": "markdown",
      "metadata": {
        "id": "bs8ZVx3c6R2U"
      },
      "source": [
        "#Calculators"
      ]
    },
    {
      "cell_type": "markdown",
      "source": [
        "Code written by Sencere Rabel 9/13/2024"
      ],
      "metadata": {
        "id": "KgMiB4O0OPWA"
      }
    },
    {
      "cell_type": "markdown",
      "source": [
        "## Asset Import"
      ],
      "metadata": {
        "id": "7QbP7Xj6BAca"
      }
    },
    {
      "cell_type": "code",
      "execution_count": 82,
      "metadata": {
        "id": "d6DWPgCW8wuG"
      },
      "outputs": [],
      "source": [
        "import math\n",
        "from fractions import Fraction"
      ]
    },
    {
      "cell_type": "markdown",
      "source": [
        "##Input Handler\n"
      ],
      "metadata": {
        "id": "Cl5LIHVlA5PR"
      }
    },
    {
      "cell_type": "code",
      "execution_count": 83,
      "metadata": {
        "id": "x8nV3tvuBZaV"
      },
      "outputs": [],
      "source": [
        "#input handle\n",
        "def input_handler(z):\n",
        "  z_out = []\n",
        "\n",
        "  #handles x input\n",
        "  i =0\n",
        "  while i < len(z):\n",
        "    if z[i] == ',':\n",
        "      i+= 1\n",
        "    elif z[i] == ' ':\n",
        "      i+= 1\n",
        "    elif z[i] == '-' or  z[i] == '−':\n",
        "      i+= 1\n",
        "      z_out.append(int(z[i])*-1)\n",
        "      i+= 1\n",
        "    else:\n",
        "      z_out.append(int(z[i]))\n",
        "      i+=1\n",
        "\n",
        "  return z_out\n"
      ]
    },
    {
      "cell_type": "markdown",
      "metadata": {
        "id": "btQnPbKE6U46"
      },
      "source": [
        "##Cosine Similarity Calculator"
      ]
    },
    {
      "cell_type": "code",
      "execution_count": 84,
      "metadata": {
        "id": "Q6G-DgtI6M7P"
      },
      "outputs": [],
      "source": [
        "def Cosine_Similarity_Calculator():\n",
        "  #intitalizes the inner product for summation then calculates and prints the summation\n",
        "  inner_product =0\n",
        "  for k in range(len(x)):\n",
        "    inner_product += (int(x[k])*int(y[k]))\n",
        "  print('the inner product is:',inner_product)\n",
        "\n",
        "  #intitalizes the vector length for summation then calculates and prints the summation for x and y\n",
        "  vector_length_x = 0\n",
        "  vector_length_y = 0\n",
        "  for k in range(len(x)):\n",
        "    vector_length_x += (math.pow(int(x[k]),2))\n",
        "  vector_length_x = math.sqrt(vector_length_x)\n",
        "  print('the vector length of x is:',vector_length_x)\n",
        "\n",
        "  for k in range(len(y)):\n",
        "    vector_length_y += (math.pow(int(y[k]),2))\n",
        "  vector_length_y = math.sqrt(vector_length_y)\n",
        "  print('the vector length of y is:',vector_length_y)\n",
        "\n",
        "  #calculates the cosine of the vectors and prints\n",
        "  cos_xy = inner_product/(vector_length_x * vector_length_y)\n",
        "  print(f'The cosine of these vectors is: {cos_xy:0.4f} or',Fraction(cos_xy).limit_denominator())"
      ]
    },
    {
      "cell_type": "markdown",
      "metadata": {
        "id": "7umBlAusmlSZ"
      },
      "source": [
        "##Correlation Calculator"
      ]
    },
    {
      "cell_type": "code",
      "execution_count": 85,
      "metadata": {
        "id": "FEV8jByEmxxK"
      },
      "outputs": [],
      "source": [
        "def Correlation_Calculator():\n",
        "  mean_x = sum(x)/len(x)\n",
        "  mean_y = sum(y)/len(y)\n",
        "  print('The mean of x is:',mean_x,'or', Fraction(mean_x).limit_denominator())\n",
        "  print('The mean of y is:',mean_y,'or',Fraction(mean_y).limit_denominator())\n",
        "  std_x = 0\n",
        "  std_y =0\n",
        "  coav = 0\n",
        "  n = len(x)\n",
        "  #Calculates standard deviation of x\n",
        "  for i in range(n):\n",
        "    std_x += math.pow((x[i]- mean_x),2)\n",
        "  std_x = math.sqrt(std_x /(n-1))\n",
        "  print('The Std_x is:',std_x,'or', Fraction(std_x).limit_denominator())\n",
        "  #Calculates standard deviation of y\n",
        "  for i in range(n):\n",
        "    std_y += math.pow((y[i]- mean_y),2)\n",
        "  std_y = math.sqrt(std_y /(n-1))\n",
        "  print('The Std_y is:',std_y,'or', Fraction(std_y).limit_denominator())\n",
        "  #calculates Covariance (x,y)\n",
        "  for i in range(n):\n",
        "    coav += (x[i]-mean_x)*(y[i]-mean_y)\n",
        "  coav = coav/(n-1)\n",
        "  print('The Coav  is:',coav,'or',Fraction(coav).limit_denominator())\n",
        "\n",
        "  #calculates the correlation\n",
        "  corr = coav / (std_x * std_y)\n",
        "\n",
        "  print(f'The correlation is: {corr:0.4f} or',Fraction(corr).limit_denominator())\n"
      ]
    },
    {
      "cell_type": "markdown",
      "source": [
        "##Euclidean Distance Calculator"
      ],
      "metadata": {
        "id": "OYNjmioiEZDt"
      }
    },
    {
      "cell_type": "code",
      "source": [
        "def Euclidean_Distance_Calculator():\n",
        "  # intializes var for summation\n",
        "  euclid = 0\n",
        "  #computes the summation of x-y to the second power and square roots the value\n",
        "  for i in range(len(x)):\n",
        "    euclid += math.pow((x[i]- y[i]),2)\n",
        "  euclid = math.sqrt(euclid)\n",
        "  #outputs the euclidean distance\n",
        "  #TODO: add an r variable for different powers\n",
        "  print('The Euclidean Distance is:',euclid)\n"
      ],
      "metadata": {
        "id": "A4hIFMR2EYBZ"
      },
      "execution_count": 86,
      "outputs": []
    },
    {
      "cell_type": "markdown",
      "source": [
        "## Jaccard Similarity & SMC calculator (Binary vectors)"
      ],
      "metadata": {
        "id": "kLL4AT8PADXe"
      }
    },
    {
      "cell_type": "code",
      "source": [
        "def Jaccard_And_SMC_calculator_Binary():\n",
        "  f00 = 0\n",
        "  f01 = 0\n",
        "  f10 = 0\n",
        "  f11 = 0\n",
        "  for i in range(len(x)):\n",
        "    if x[i] == 0 and y[i] == 0:\n",
        "      f00 += 1\n",
        "    elif x[i] == 0 and y[i] == 1:\n",
        "      f01 += 1\n",
        "    elif x[i] == 1 and y[i] == 0:\n",
        "      f10 += 1\n",
        "    elif x[i] == 1 and y[i] == 1:\n",
        "      f11 += 1\n",
        "\n",
        "  J = (f11)/(f10+f01+f11)\n",
        "  SMC =(f11+f00)/(f10+f01+f11+f00)\n",
        "\n",
        "  print('The Jaccard Similarity is:', Fraction(J).limit_denominator())\n",
        "  print('The Simple Matching Coefficient is:', Fraction(SMC).limit_denominator())\n"
      ],
      "metadata": {
        "id": "RL8Nbsf9ALau"
      },
      "execution_count": 87,
      "outputs": []
    },
    {
      "cell_type": "markdown",
      "source": [
        "#Run"
      ],
      "metadata": {
        "id": "gDU8UBONi_uh"
      }
    },
    {
      "cell_type": "code",
      "source": [
        "#TODO\n",
        "#add decimal placement selection\n",
        "#Add simple python gui\n",
        "\n",
        "def line(i):\n",
        "  if i == 1:\n",
        "    input(('-----------------------'))\n",
        "  else:\n",
        "    print('-----------------------')\n",
        "\n",
        "#takes user input to get x and y vectors for all calculators\n",
        "print('Enter vectors as a comma seperated list')\n",
        "x = input_handler(input('Enter vector x:'))\n",
        "y = input_handler(input('Enter vector y:'))\n",
        "\n",
        "print()\n",
        "user= '0'\n",
        "while user != '!':\n",
        "  print('The current X vector is:',x,'\\nThe current Y vector is:',y)\n",
        "  print()\n",
        "  user = input('What operation would you like to do? (enter \"!\" to exit): \\n 1:Cosine \\n 2:Correlation \\n 3:Euclidean Distance \\n 4:Jaccard and SMC \\n 5:Change vectors \\n')\n",
        "  if user == '1':\n",
        "    line(0)\n",
        "    print('[Cosine Simliarity]')\n",
        "    Cosine_Similarity_Calculator()\n",
        "    line(1)\n",
        "  elif user == '2':\n",
        "    line(0)\n",
        "    print('[Correlation Calculator]')\n",
        "    Correlation_Calculator()\n",
        "    line(1)\n",
        "  elif user == '3':\n",
        "    line(0)\n",
        "    print('[Euclidean Distance Calculator]')\n",
        "    Euclidean_Distance_Calculator()\n",
        "    line(1)\n",
        "  elif user == '4':\n",
        "    line(0)\n",
        "    print('[Jaccard And SMC calculator]')\n",
        "    Jaccard_And_SMC_calculator_Binary()\n",
        "    line(1)\n",
        "  elif user == '5':\n",
        "    line(0)\n",
        "    print('Enter vectors as a comma seperated list')\n",
        "    x = input_handler(input('Enter vector x:'))\n",
        "    y = input_handler(input('Enter vector y:'))\n",
        "    line(0)\n",
        "  elif user == '!':\n",
        "    print('Stopping program')\n",
        "  else:\n",
        "    print('Invalid input!')\n",
        "\n"
      ],
      "metadata": {
        "id": "9YDWRiooEyGp"
      },
      "execution_count": null,
      "outputs": []
    }
  ]
}