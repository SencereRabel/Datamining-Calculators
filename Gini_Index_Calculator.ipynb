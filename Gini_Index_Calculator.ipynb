{
  "nbformat": 4,
  "nbformat_minor": 0,
  "metadata": {
    "colab": {
      "provenance": []
    },
    "kernelspec": {
      "name": "python3",
      "display_name": "Python 3"
    },
    "language_info": {
      "name": "python"
    }
  },
  "cells": [
    {
      "cell_type": "markdown",
      "source": [
        "#Code"
      ],
      "metadata": {
        "id": "HZmRkdjFZGxR"
      }
    },
    {
      "cell_type": "code",
      "execution_count": null,
      "metadata": {
        "id": "r7NeAeOWUhM_",
        "colab": {
          "base_uri": "https://localhost:8080/"
        },
        "outputId": "7264e436-45d6-4882-9def-e018b0620755"
      },
      "outputs": [
        {
          "name": "stdout",
          "output_type": "stream",
          "text": [
            "Gini of parent:\n",
            "enter instances for C0: 7\n",
            "enter instances for C1: 5\n",
            "gini of children:\n",
            "enter the number of children: 2\n",
            "enter the number of records in child 0: 6\n",
            "enter the number of records in child 1: 6\n",
            "enter the number of records at the parent node: 12\n",
            "child 0\n",
            "enter instances for C0: 5\n",
            "enter instances for C1: 1\n",
            "child 1\n",
            "enter instances for C0: 2\n",
            "enter instances for C1: 4\n"
          ]
        },
        {
          "output_type": "execute_result",
          "data": {
            "text/plain": [
              "0.125"
            ]
          },
          "metadata": {},
          "execution_count": 12
        }
      ],
      "source": [
        "import math\n",
        "#input the number of classes that we are calculating with and return the gini index\n",
        "def gini(c):\n",
        "  #set gini index to 0 to prepare for summation\n",
        "  gini_index = 0\n",
        "  #store the number of instances in a list so it can be interated through\n",
        "  instances = []\n",
        "  for i in range(c):\n",
        "    instances.append(int(input(f\"enter instances for C{i}: \")))\n",
        "  total = sum(instances)\n",
        "  #calculate the summation of the number of an instance out of the total squared\n",
        "  for i in range(len(instances)):\n",
        "    gini_index += math.pow((instances[i]/total),2)\n",
        "  #take the previous summation and subtract one by it and store the value in gini_index\n",
        "  gini_index = 1-gini_index\n",
        "  #return gini_index\n",
        "  return gini_index\n",
        "\n",
        "  #takes in the number of classes and returns the gini index when it is split into partions\n",
        "def gini_split(c):\n",
        "  #ask for the number of children so for the summation\n",
        "  k = int(input(\"enter the number of children: \"))\n",
        "  #for each child ask for the the total number of records\n",
        "  n =[]\n",
        "  for i in range(k):\n",
        "    n.append(int(input(f\"enter the number of records in child {i}: \")))\n",
        "  #ask for the number of records at the parent node\n",
        "  parent = int(input(\"enter the number of records at the parent node: \"))\n",
        "  #sets value of gini_split for summation\n",
        "  gini_split = 0\n",
        "  #computes the summation of the number of records at current child node over the\n",
        "  #number of records at the parent node times the gini index of the current node\n",
        "  for i in range(k):\n",
        "    print(f\"child {i}\")\n",
        "    gini_split += (n[i]/parent)*gini(c)\n",
        "  #returns the value of gini_split\n",
        "  return gini_split\n",
        "\n",
        "def gini_gain(c):\n",
        "  print(\"Gini of parent:\")\n",
        "  gini_parent = gini(c)\n",
        "  print('gini of children:')\n",
        "  gain = gini_parent - gini_split(c)\n",
        "  return gain\n"
      ]
    },
    {
      "cell_type": "code",
      "source": [],
      "metadata": {
        "id": "bAuPQrkVrHGu"
      },
      "execution_count": null,
      "outputs": []
    }
  ]
}